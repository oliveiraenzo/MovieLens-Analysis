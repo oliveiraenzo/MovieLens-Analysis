{
 "cells": [
  {
   "cell_type": "markdown",
   "metadata": {},
   "source": [
    "1. Importação de Bibliotecas"
   ]
  },
  {
   "cell_type": "code",
   "execution_count": null,
   "metadata": {},
   "outputs": [],
   "source": [
    "import pandas as pd\n",
    "import numpy as np\n",
    "import matplotlib.pyplot as plt\n",
    "import seaborn as sns\n",
    "\n"
   ]
  },
  {
   "cell_type": "markdown",
   "metadata": {},
   "source": [
    "2. Carregar os Dados"
   ]
  },
  {
   "cell_type": "code",
   "execution_count": null,
   "metadata": {},
   "outputs": [],
   "source": [
    "# Carregar os datasets\n",
    "movies_df = pd.read_csv('../data/movies.csv')\n",
    "ratings_df = pd.read_csv('../data/ratings.csv')\n",
    "tags_df = pd.read_csv('../data/tags.csv')\n",
    "links_df = pd.read_csv('../data/links.csv')\n",
    "\n",
    "# Exibir as primeiras linhas de cada DataFrame para inspeção inicial\n",
    "print(\"Movies DataFrame:\")\n",
    "print(movies_df.head())\n",
    "\n",
    "print(\"\\nRatings DataFrame:\")\n",
    "print(ratings_df.head())\n",
    "\n",
    "print(\"\\nTags DataFrame:\")\n",
    "print(tags_df.head())\n",
    "\n",
    "print(\"\\nLinks DataFrame:\")\n",
    "print(links_df.head())\n"
   ]
  },
  {
   "cell_type": "markdown",
   "metadata": {},
   "source": [
    "3. Análise Inicial dos Dados"
   ]
  },
  {
   "cell_type": "code",
   "execution_count": null,
   "metadata": {},
   "outputs": [],
   "source": [
    "# Verificar o tipo de dados e valores nulos\n",
    "print(\"Movies DataFrame Info:\")\n",
    "print(movies_df.info())\n",
    "print(\"\\nRatings DataFrame Info:\")\n",
    "print(ratings_df.info())\n",
    "print(\"\\nTags DataFrame Info:\")\n",
    "print(tags_df.info())\n",
    "print(\"\\nLinks DataFrame Info:\")\n",
    "print(links_df.info())\n",
    "\n",
    "# Verificar valores nulos\n",
    "print(\"\\nVerificar valores nulos nos DataFrames:\")\n",
    "print(movies_df.isnull().sum())\n",
    "print(ratings_df.isnull().sum())\n",
    "print(tags_df.isnull().sum())\n",
    "print(links_df.isnull().sum())\n"
   ]
  },
  {
   "cell_type": "markdown",
   "metadata": {},
   "source": [
    "4. Distribuição das Avaliações\n"
   ]
  },
  {
   "cell_type": "code",
   "execution_count": null,
   "metadata": {},
   "outputs": [],
   "source": [
    "# Distribuição das avaliações no dataset 'ratings'\n",
    "plt.figure(figsize=(8,6))\n",
    "sns.histplot(ratings_df['rating'], kde=True, bins=10, color='blue')\n",
    "plt.title('Distribuição das Avaliações')\n",
    "plt.xlabel('Rating')\n",
    "plt.ylabel('Frequência')\n",
    "plt.show()\n"
   ]
  },
  {
   "cell_type": "markdown",
   "metadata": {},
   "source": [
    "5. Número de Filmes e Usuários Únicos"
   ]
  },
  {
   "cell_type": "code",
   "execution_count": null,
   "metadata": {},
   "outputs": [],
   "source": [
    "# Número de filmes e usuários únicos\n",
    "num_filmes = movies_df['movieId'].nunique()\n",
    "num_usuarios = ratings_df['userId'].nunique()\n",
    "\n",
    "print(f\"Total de filmes: {num_filmes}\")\n",
    "print(f\"Total de usuários: {num_usuarios}\")\n"
   ]
  },
  {
   "cell_type": "markdown",
   "metadata": {},
   "source": [
    "6. Análise da Popularidade dos Filmes\n"
   ]
  },
  {
   "cell_type": "code",
   "execution_count": null,
   "metadata": {},
   "outputs": [],
   "source": [
    "# Calcular a contagem de avaliações para cada filme\n",
    "filmes_populares = ratings_df.groupby('movieId').size().sort_values(ascending=False).head(10)\n",
    "\n",
    "# Juntar com o título dos filmes\n",
    "filmes_populares = filmes_populares.index.to_frame()\n",
    "filmes_populares['title'] = filmes_populares['movieId'].map(movies_df.set_index('movieId')['title'])\n",
    "\n",
    "# Exibir os filmes mais populares\n",
    "print(filmes_populares[['title', 0]])\n"
   ]
  },
  {
   "cell_type": "markdown",
   "metadata": {},
   "source": [
    "7. Análise de Gêneros de Filmes\n"
   ]
  },
  {
   "cell_type": "code",
   "execution_count": null,
   "metadata": {},
   "outputs": [],
   "source": [
    "# Verificar a distribuição dos gêneros\n",
    "generos = movies_df['genres'].str.split('|', expand=True).stack().value_counts()\n",
    "\n",
    "# Exibir os 10 gêneros mais populares\n",
    "print(generos.head(10))\n",
    "\n",
    "# Visualizar a distribuição dos gêneros\n",
    "plt.figure(figsize=(10,6))\n",
    "sns.barplot(x=generos.head(10).index, y=generos.head(10).values, palette='Set2')\n",
    "plt.title('Distribuição dos Gêneros de Filmes')\n",
    "plt.xlabel('Gênero')\n",
    "plt.ylabel('Número de Filmes')\n",
    "plt.xticks(rotation=45)\n",
    "plt.show()\n"
   ]
  },
  {
   "cell_type": "markdown",
   "metadata": {},
   "source": [
    "8. Relacionamento Entre Usuários e Avaliações\n"
   ]
  },
  {
   "cell_type": "code",
   "execution_count": null,
   "metadata": {},
   "outputs": [],
   "source": [
    "# Número médio de avaliações por usuário\n",
    "avg_ratings_per_user = ratings_df.groupby('userId').size().mean()\n",
    "print(f\"Número médio de avaliações por usuário: {avg_ratings_per_user:.2f}\")\n",
    "\n",
    "# Número médio de avaliações por filme\n",
    "avg_ratings_per_movie = ratings_df.groupby('movieId').size().mean()\n",
    "print(f\"Número médio de avaliações por filme: {avg_ratings_per_movie:.2f}\")\n"
   ]
  },
  {
   "cell_type": "markdown",
   "metadata": {},
   "source": [
    "9. Análise de Outliers nas Avaliações\n"
   ]
  },
  {
   "cell_type": "code",
   "execution_count": null,
   "metadata": {},
   "outputs": [],
   "source": [
    "# Verificando outliers nas avaliações\n",
    "plt.figure(figsize=(8,6))\n",
    "sns.boxplot(x=ratings_df['rating'])\n",
    "plt.title('Distribuição das Avaliações (Boxplot)')\n",
    "plt.xlabel('Rating')\n",
    "plt.show()\n"
   ]
  },
  {
   "cell_type": "markdown",
   "metadata": {},
   "source": [
    "10. Salvamento do Relatório ou Gráficos\n"
   ]
  },
  {
   "cell_type": "code",
   "execution_count": null,
   "metadata": {},
   "outputs": [],
   "source": [
    "# Salvar o gráfico de distribuição de ratings\n",
    "plt.figure(figsize=(8,6))\n",
    "sns.histplot(ratings_df['rating'], kde=True, bins=10, color='blue')\n",
    "plt.title('Distribuição das Avaliações')\n",
    "plt.xlabel('Rating')\n",
    "plt.ylabel('Frequência')\n",
    "plt.savefig('exploration_plots/distribuicao_ratings.png')\n"
   ]
  },
  {
   "cell_type": "markdown",
   "metadata": {},
   "source": [
    "# Conclusão\n",
    "\n",
    "Através da análise exploratória realizada, foi possível observar que:\n",
    "- A maioria das avaliações está concentrada em um número pequeno de estrelas (com um viés em torno de 3-4 estrelas).\n",
    "- Os filmes com maior número de avaliações tendem a ser mais populares.\n",
    "- O gênero mais popular entre os filmes é [Gênero X], seguido por [Gênero Y].\n",
    "- Não há muitos outliers nas avaliações, o que sugere que os dados estão bem distribuídos.\n",
    "\n",
    "As próximas etapas podem envolver a limpeza dos dados e a construção de modelos preditivos.\n"
   ]
  }
 ],
 "metadata": {
  "language_info": {
   "name": "python"
  }
 },
 "nbformat": 4,
 "nbformat_minor": 2
}
